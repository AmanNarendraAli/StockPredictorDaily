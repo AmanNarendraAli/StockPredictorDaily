{
 "cells": [
  {
   "cell_type": "code",
   "execution_count": 3,
   "metadata": {},
   "outputs": [],
   "source": [
    "import quandl as qd\n",
    "import pandas as pd\n",
    "import os as os\n",
    "import sklearn "
   ]
  },
  {
   "cell_type": "code",
   "execution_count": 18,
   "metadata": {},
   "outputs": [
    {
     "name": "stdout",
     "output_type": "stream",
     "text": [
      "                Value\n",
      "Date                 \n",
      "2020-01-01  21481.367\n",
      "2020-04-01  19477.444\n",
      "2020-07-01  21138.574\n",
      "2020-10-01  21477.597\n",
      "2021-01-01  22038.226\n",
      "2021-04-01  22740.959\n",
      "2021-07-01  23202.344\n",
      "2021-10-01  23992.355\n",
      "<class 'pandas.core.frame.DataFrame'>\n",
      "DatetimeIndex: 8 entries, 2020-01-01 to 2021-10-01\n",
      "Data columns (total 1 columns):\n",
      " #   Column  Non-Null Count  Dtype  \n",
      "---  ------  --------------  -----  \n",
      " 0   Value   8 non-null      float64\n",
      "dtypes: float64(1)\n",
      "memory usage: 128.0 bytes\n",
      "None\n",
      "              Value\n",
      "count      8.000000\n",
      "mean   21943.608250\n",
      "std     1393.217211\n",
      "min    19477.444000\n",
      "25%    21392.841250\n",
      "50%    21759.796500\n",
      "75%    22856.305250\n",
      "max    23992.355000\n",
      "Value    0\n",
      "dtype: int64\n"
     ]
    }
   ],
   "source": [
    "qd.ApiConfig.api_key = os.environ['QUANDL_API_KEY']\n",
    "data = qd.get(\"FRED/GDP\", start_date=\"2020-01-01\", end_date=\"2024-11-08\")\n",
    "print(data)\n",
    "# Display basic information about the DataFrame\n",
    "print(data.info())\n",
    "\n",
    "# Display summary statistics\n",
    "print(data.describe())\n",
    "\n",
    "# Check for missing values\n",
    "print(data.isnull().sum())\n"
   ]
  }
 ],
 "metadata": {
  "kernelspec": {
   "display_name": "Python 3",
   "language": "python",
   "name": "python3"
  },
  "language_info": {
   "codemirror_mode": {
    "name": "ipython",
    "version": 3
   },
   "file_extension": ".py",
   "mimetype": "text/x-python",
   "name": "python",
   "nbconvert_exporter": "python",
   "pygments_lexer": "ipython3",
   "version": "3.9.7"
  }
 },
 "nbformat": 4,
 "nbformat_minor": 2
}
